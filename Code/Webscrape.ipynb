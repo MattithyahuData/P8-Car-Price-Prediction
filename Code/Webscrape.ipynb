{
 "cells": [
  {
   "cell_type": "code",
   "execution_count": null,
   "metadata": {},
   "outputs": [],
   "source": [
    "# Importing project dependencies \n",
    "\n",
    "# Data handling\n",
    "import pandas as pd"
   ]
  },
  {
   "cell_type": "code",
   "execution_count": null,
   "metadata": {},
   "outputs": [],
   "source": [
    "# Webscraping\n",
    "url = \"https://en.wikipedia.org/wiki/Exchange_rate_history_of_the_Indian_rupee\"\n",
    "datas = pd.read_html(url)\n",
    "\n",
    "# Validation to select the correct table \n",
    "for data in datas:\n",
    "    if len(data) >= 28:\n",
    "        data\n",
    "        break\n",
    "\n",
    "# Renaming column \n",
    "data.rename(columns={\"GBP (average)\": \"GBP(avg)\"}, inplace=True)\n",
    "\n",
    "# Rupees to pound Conversion\n",
    "data['Conversion'] = 1 / data['GBP(avg)']\n",
    "\n",
    "# Clean Year column to only show first 4 numbers but clean based on dash etc...\n",
    "data['Year'] = data['Year'].str[:4]\n",
    "\n",
    "# Keeping only required columns \n",
    "data = data[['Year','Conversion']]\n",
    "\n",
    "# Export data to csv\n",
    "data.to_csv('../Data/INR_GBP.csv',index=False)"
   ]
  },
  {
   "cell_type": "markdown",
   "metadata": {},
   "source": [
    "[Join performed in SQL](joining_data.sql)"
   ]
  }
 ],
 "metadata": {
  "interpreter": {
   "hash": "5d2425e5e3fc69d3a8a106f6cb0a9323e9d1df83781615c51778a1375af39865"
  },
  "kernelspec": {
   "display_name": "Python 3.9.7 ('P8')",
   "language": "python",
   "name": "python3"
  },
  "language_info": {
   "name": "python",
   "version": "3.9.7"
  },
  "orig_nbformat": 4
 },
 "nbformat": 4,
 "nbformat_minor": 2
}
